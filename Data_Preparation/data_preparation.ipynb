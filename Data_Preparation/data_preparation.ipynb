{
 "cells": [
  {
   "cell_type": "code",
   "execution_count": 25,
   "metadata": {},
   "outputs": [],
   "source": [
    "# Required libraries\n",
    "import pandas as pd\n",
    "from sklearn.model_selection import train_test_split\n",
    "from sklearn.preprocessing import LabelEncoder, StandardScaler\n",
    "import numpy as np"
   ]
  },
  {
   "cell_type": "code",
   "execution_count": 26,
   "metadata": {},
   "outputs": [],
   "source": [
    "# Load your dataset\n",
    "dataset = pd.read_csv('Dataset (ATS)-1 (1).csv')"
   ]
  },
  {
   "cell_type": "code",
   "execution_count": 27,
   "metadata": {},
   "outputs": [
    {
     "name": "stdout",
     "output_type": "stream",
     "text": [
      "gender             0\n",
      "SeniorCitizen      0\n",
      "Dependents         0\n",
      "tenure             0\n",
      "PhoneService       0\n",
      "MultipleLines      0\n",
      "InternetService    0\n",
      "Contract           0\n",
      "MonthlyCharges     0\n",
      "Churn              0\n",
      "dtype: int64\n"
     ]
    }
   ],
   "source": [
    "# Check for missing values\n",
    "print(dataset.isnull().sum())\n"
   ]
  },
  {
   "cell_type": "code",
   "execution_count": 28,
   "metadata": {},
   "outputs": [
    {
     "name": "stdout",
     "output_type": "stream",
     "text": [
      "<class 'pandas.core.frame.DataFrame'>\n",
      "RangeIndex: 7043 entries, 0 to 7042\n",
      "Data columns (total 10 columns):\n",
      " #   Column           Non-Null Count  Dtype  \n",
      "---  ------           --------------  -----  \n",
      " 0   gender           7043 non-null   object \n",
      " 1   SeniorCitizen    7043 non-null   int64  \n",
      " 2   Dependents       7043 non-null   object \n",
      " 3   tenure           7043 non-null   int64  \n",
      " 4   PhoneService     7043 non-null   object \n",
      " 5   MultipleLines    7043 non-null   object \n",
      " 6   InternetService  7043 non-null   object \n",
      " 7   Contract         7043 non-null   object \n",
      " 8   MonthlyCharges   7043 non-null   float64\n",
      " 9   Churn            7043 non-null   object \n",
      "dtypes: float64(1), int64(2), object(7)\n",
      "memory usage: 550.4+ KB\n"
     ]
    }
   ],
   "source": [
    "dataset.info()"
   ]
  },
  {
   "cell_type": "code",
   "execution_count": 29,
   "metadata": {},
   "outputs": [],
   "source": [
    "# Encoding categorical columns using LabelEncoder for binary categories\n",
    "label_encoder = LabelEncoder()\n",
    "dataset['gender'] = label_encoder.fit_transform(dataset['gender'])  # 0: Female, 1: Male\n",
    "dataset['Dependents'] = label_encoder.fit_transform(dataset['Dependents'])  # 0: No, 1: Yes\n",
    "dataset['PhoneService'] = label_encoder.fit_transform(dataset['PhoneService'])  # 0: No, 1: Yes\n",
    "dataset['MultipleLines'] = label_encoder.fit_transform(dataset['MultipleLines'])  # 0: No, 1: Yes\n",
    "dataset['Churn'] = label_encoder.fit_transform(dataset['Churn'])  # 0: No, 1: Yes\n"
   ]
  },
  {
   "cell_type": "code",
   "execution_count": 30,
   "metadata": {},
   "outputs": [],
   "source": [
    "# One-hot encoding for columns with more than two categories (e.g., InternetService, Contract)\n",
    "dataset = pd.get_dummies(dataset, columns=['InternetService', 'Contract'], drop_first=True)"
   ]
  },
  {
   "cell_type": "code",
   "execution_count": 31,
   "metadata": {},
   "outputs": [],
   "source": [
    "# Splitting dataset into features and target variable\n",
    "X = dataset.drop('Churn', axis=1)  # Features excluding 'Churn'\n",
    "y = dataset['Churn']  # Target column 'Churn'"
   ]
  },
  {
   "cell_type": "code",
   "execution_count": 32,
   "metadata": {},
   "outputs": [],
   "source": [
    "# Splitting data into training and testing sets\n",
    "X_train, X_test, y_train, y_test = train_test_split(X, y, test_size=0.2, random_state=42)"
   ]
  },
  {
   "cell_type": "code",
   "execution_count": 33,
   "metadata": {},
   "outputs": [],
   "source": [
    "# Scaling the numerical columns ('tenure', 'MonthlyCharges') using StandardScaler\n",
    "scaler = StandardScaler()\n",
    "X_train[['tenure', 'MonthlyCharges']] = scaler.fit_transform(X_train[['tenure', 'MonthlyCharges']])\n",
    "X_test[['tenure', 'MonthlyCharges']] = scaler.transform(X_test[['tenure', 'MonthlyCharges']])"
   ]
  },
  {
   "cell_type": "code",
   "execution_count": 34,
   "metadata": {},
   "outputs": [],
   "source": [
    "# Saving the preprocessed datasets to CSV\n",
    "X_train.to_csv('X_train.csv', index=False)\n",
    "X_test.to_csv('X_test.csv', index=False)\n",
    "y_train.to_csv('y_train.csv', index=False)\n",
    "y_test.to_csv('y_test.csv', index=False)"
   ]
  }
 ],
 "metadata": {
  "kernelspec": {
   "display_name": "Python 3",
   "language": "python",
   "name": "python3"
  },
  "language_info": {
   "codemirror_mode": {
    "name": "ipython",
    "version": 3
   },
   "file_extension": ".py",
   "mimetype": "text/x-python",
   "name": "python",
   "nbconvert_exporter": "python",
   "pygments_lexer": "ipython3",
   "version": "3.11.3"
  }
 },
 "nbformat": 4,
 "nbformat_minor": 2
}
